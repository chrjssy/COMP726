{
 "cells": [
  {
   "cell_type": "code",
   "execution_count": 5,
   "metadata": {},
   "outputs": [
    {
     "name": "stdout",
     "output_type": "stream",
     "text": [
      "Running proof-of-work with lower difficulty (difficulty_1)...\n",
      "Block found! Nonce: 2893\n",
      "Hash: 00033494d6564e05527ab59c272d5f98561d5688d0360632d2d2ff74218e7767\n",
      "Time taken for difficulty_1: 0.0040013790130615234 seconds\n",
      "\n",
      "Running proof-of-work with higher difficulty (difficulty_2)...\n",
      "Block found! Nonce: 1915519\n",
      "Hash: 000004cdc765397ed1165d879fcc76f9b7f294163308eaa2139b04c15786d13c\n",
      "Time taken for difficulty_2: 2.827221393585205 seconds\n"
     ]
    }
   ],
   "source": [
    "# QUESTION 1 #\n",
    "\n",
    "import hashlib\n",
    "import time\n",
    "\n",
    "# Function to perform simplified proof-of-work\n",
    "def proof_of_work(data, target):\n",
    "    nonce = 0  \n",
    "    block_found = False  \n",
    "    \n",
    "    while not block_found:  \n",
    "        combined_data = data + str(nonce)\n",
    "        \n",
    "        # Hash combined_data using SHA-256\n",
    "        hash = hashlib.sha256(combined_data.encode()).hexdigest()\n",
    "        \n",
    "        # Check if the hash is less than the target\n",
    "        if int(hash, 16) < target:\n",
    "            block_found = True \n",
    "            print(f\"Block found with nonce: {nonce}\")\n",
    "            print(f\"Hash: {hash}\")\n",
    "        nonce += 1\n",
    "\n",
    "# Simulate simplified proof-of-work with two difficulties\n",
    "def run_proof_of_work():\n",
    "    data = \"block data\"  \n",
    "    difficulty_1 = 0x00000FFFFFFFFFFFFFFFFFFFFFFFFFFFFFFFFFFFFFFFFFFFFFFFFFFFFFFFFFFFFF  # Lower difficulty (less leading zeros)\n",
    "    difficulty_2 = 0x0000000FFFFFFFFFFFFFFFFFFFFFFFFFFFFFFFFFFFFFFFFFFFFFFFFFFFFFFFFFFF  # Higher difficulty (more leading zeros)\n",
    "    \n",
    "    print(\"Running proof-of-work with lower difficulty (difficulty_1)...\")\n",
    "    start_time = time.time()\n",
    "    proof_of_work(data, difficulty_1)\n",
    "    print(f\"Time taken for difficulty_1: {time.time() - start_time} seconds\\n\")\n",
    "\n",
    "    print(\"Running proof-of-work with higher difficulty (difficulty_2)...\")\n",
    "    start_time = time.time()\n",
    "    proof_of_work(data, difficulty_2)\n",
    "    print(f\"Time taken for difficulty_2: {time.time() - start_time} seconds\")\n",
    "\n",
    "# Run the proof-of-work simulation\n",
    "if __name__ == \"__main__\":\n",
    "    run_proof_of_work()\n"
   ]
  },
  {
   "cell_type": "code",
   "execution_count": 8,
   "metadata": {},
   "outputs": [
    {
     "name": "stdout",
     "output_type": "stream",
     "text": [
      "\n",
      "Mining Block 1 with current difficulty...\n",
      "Block found with nonce: 226325\n",
      "Hash: 0000b55ea7ba1265fc3c0405db5f68763eb81e9e91f2769424289e6d09e77877\n",
      "Time taken to find block: 0.35 seconds\n",
      "Block located faster than expected! Increasing difficulty.\n",
      "\n",
      "Mining Block 2 with current difficulty...\n",
      "Block found with nonce: 453433\n",
      "Hash: 000033781d9ac2e838842c04795b548bf5866a08bc11b4f2b63d53d61865702b\n",
      "Time taken to find block: 0.69 seconds\n",
      "Block located faster than expected! Increasing difficulty.\n",
      "\n",
      "Mining Block 3 with current difficulty...\n",
      "Block found with nonce: 1915519\n",
      "Hash: 000004cdc765397ed1165d879fcc76f9b7f294163308eaa2139b04c15786d13c\n",
      "Time taken to find block: 3.04 seconds\n",
      "Block located faster than expected! Increasing difficulty.\n",
      "\n",
      "Mining Block 4 with current difficulty...\n",
      "Block found with nonce: 4058409\n",
      "Hash: 0000010235329668daf04f5667630539a9a2a79d290dadfacbe5f9081f837dab\n",
      "Time taken to find block: 6.21 seconds\n",
      "Block located slower than expected! Decreasing difficulty.\n",
      "\n",
      "Mining Block 5 with current difficulty...\n",
      "Block found with nonce: 1915519\n",
      "Hash: 000004cdc765397ed1165d879fcc76f9b7f294163308eaa2139b04c15786d13c\n",
      "Time taken to find block: 2.97 seconds\n",
      "Block located faster than expected! Increasing difficulty.\n"
     ]
    }
   ],
   "source": [
    "# QUESTION 2 #\n",
    "\n",
    "import hashlib\n",
    "import time\n",
    "\n",
    "# Function to perform proof-of-work\n",
    "def proof_of_work(data, target):\n",
    "    nonce = 0  \n",
    "    block_found = False  \n",
    "    \n",
    "    start_time = time.time()  # Timer\n",
    "    \n",
    "    while not block_found:\n",
    "        combined_data = data + str(nonce)\n",
    "        \n",
    "        # Hash combined_data using SHA-256\n",
    "        hash_result = hashlib.sha256(combined_data.encode()).hexdigest()\n",
    "        \n",
    "        if int(hash_result, 16) < target:\n",
    "            block_found = True  \n",
    "            end_time = time.time()  # End timer\n",
    "            print(f\"Block found with nonce: {nonce}\")\n",
    "            print(f\"Hash: {hash_result}\")\n",
    "            return end_time - start_time  \n",
    "        nonce += 1\n",
    "\n",
    "# Function to adjust the difficulty based on block time\n",
    "def adjust_difficulty(current_target, block_time, expected_time):\n",
    "\n",
    "    if block_time < expected_time:\n",
    "        new_target = current_target >> 2  # Increase difficulty (increase difficulty: more leading zeros)\n",
    "        print(f\"Block located faster than expected! Increasing difficulty.\")\n",
    "    else:\n",
    "        new_target = current_target << 1  # Decrease difficulty (raise target: less leading zeros)\n",
    "        print(f\"Block located slower than expected! Decreasing difficulty.\")\n",
    "    \n",
    "    return new_target\n",
    "\n",
    "# Simulate proof-of-work with dynamic difficulty adjustment\n",
    "def run_dynamic_proof_of_work():\n",
    "    data = \"block data\" \n",
    "    target = 0x000000FFFFFFFFFFFFFFFFFFFFFFFFFFFFFFFFFFFFFFFFFFFFFFFFFFFFFFFFFFFF  # Initial difficulty\n",
    "    expected_time_per_block = 5  # Expected time per block is 5 seconds\n",
    "\n",
    "    for block in range(5):  \n",
    "        print(f\"\\nMining Block {block + 1} with current difficulty...\")\n",
    "        block_time = proof_of_work(data, target)  \n",
    "        print(f\"Time taken to find block: {block_time:.2f} seconds\")\n",
    "        \n",
    "        # Change the difficulty for the next block\n",
    "        target = adjust_difficulty(target, block_time, expected_time_per_block)\n",
    "\n",
    "# Run the dynamic proof-of-work simulation\n",
    "if __name__ == \"__main__\":\n",
    "    run_dynamic_proof_of_work()\n"
   ]
  },
  {
   "cell_type": "code",
   "execution_count": 9,
   "metadata": {},
   "outputs": [
    {
     "name": "stdout",
     "output_type": "stream",
     "text": [
      "Hashpower: 765104.30 hashes/second\n"
     ]
    }
   ],
   "source": [
    "# QUESTION 3 #\n",
    "\n",
    "import hashlib\n",
    "import time\n",
    "\n",
    "# Function to measure hashpower\n",
    "def measure_hashpower(duration=10):\n",
    "    data = \"test data\"  \n",
    "    nonce = 0  \n",
    "    start_time = time.time()\n",
    "    hashes = 0  \n",
    "    \n",
    "    while time.time() - start_time < duration:\n",
    "        combined_data = data + str(nonce)\n",
    "        hashlib.sha256(combined_data.encode()).hexdigest()\n",
    "        nonce += 1\n",
    "        hashes += 1  \n",
    "    \n",
    "    # Calculate hashes per second\n",
    "    hashpower = hashes / duration\n",
    "    print(f\"Hashpower: {hashpower:.2f} hashes/second\")\n",
    "    return hashpower\n",
    "\n",
    "# Measure hashpower of Computer for a set duration (being 10 seconds)\n",
    "if __name__ == \"__main__\":\n",
    "    measure_hashpower(10)  \n"
   ]
  },
  {
   "cell_type": "code",
   "execution_count": 13,
   "metadata": {},
   "outputs": [
    {
     "name": "stdout",
     "output_type": "stream",
     "text": [
      "Hashpower: 765104.30\n",
      "Estimated Years: 9961466491.18\n"
     ]
    }
   ],
   "source": [
    "# QUESTION 3 CONTINUED #\n",
    "\n",
    "# Input values to determine Bitcoin network difficulty\n",
    "\n",
    "# Current Bitcoin network difficulty (as of 2024)\n",
    "bitcoin_difficulty = 56_000_000_000_000\n",
    "\n",
    "# Your hashpower in hashes/second: ## INPUT VALUE HERE ##\n",
    "your_hashpower = 765104.30\n",
    "\n",
    "average_attempts = 2**32\n",
    "estimated_time_seconds = (bitcoin_difficulty * average_attempts) / your_hashpower\n",
    "estimated_time_years = estimated_time_seconds / (60 * 60 * 24 * 365.25)\n",
    "\n",
    "print(f\"Hashpower: {your_hashpower:.2f}\")\n",
    "print(f\"Estimated Years: {estimated_time_years:.2f}\")\n"
   ]
  },
  {
   "cell_type": "code",
   "execution_count": null,
   "metadata": {},
   "outputs": [],
   "source": []
  }
 ],
 "metadata": {
  "kernelspec": {
   "display_name": "Python 3",
   "language": "python",
   "name": "python3"
  },
  "language_info": {
   "codemirror_mode": {
    "name": "ipython",
    "version": 3
   },
   "file_extension": ".py",
   "mimetype": "text/x-python",
   "name": "python",
   "nbconvert_exporter": "python",
   "pygments_lexer": "ipython3",
   "version": "3.12.6"
  }
 },
 "nbformat": 4,
 "nbformat_minor": 2
}
